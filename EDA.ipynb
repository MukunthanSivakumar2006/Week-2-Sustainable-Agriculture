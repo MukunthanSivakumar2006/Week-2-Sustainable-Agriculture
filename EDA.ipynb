import pandas as pd
import matplotlib.pyplot as plt
import seaborn as sns

# Load dataset
df = pd.read_csv("data/crop_recommendation.csv")
df.head()

# Basic info
df.info()
df.describe()

# Check class distribution
plt.figure(figsize=(12,5))
sns.countplot(data=df, x="label", order=df['label'].value_counts().index)
plt.xticks(rotation=90)
plt.title("Crop Distribution")
plt.show()

